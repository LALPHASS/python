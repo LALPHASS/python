{
 "cells": [
  {
   "cell_type": "markdown",
   "id": "04fcd325",
   "metadata": {},
   "source": [
    "*********** ABS ***********"
   ]
  },
  {
   "cell_type": "code",
   "execution_count": 1,
   "id": "8e440fde",
   "metadata": {},
   "outputs": [
    {
     "name": "stdout",
     "output_type": "stream",
     "text": [
      "La valeur absolue de -2 est:  2\n"
     ]
    }
   ],
   "source": [
    "n_abs= -2\n",
    "print(\"La valeur absolue de -2 est: \", abs(n_abs))"
   ]
  },
  {
   "cell_type": "markdown",
   "id": "11cb3fe5",
   "metadata": {},
   "source": [
    "*********** ANY ***********"
   ]
  },
  {
   "cell_type": "code",
   "execution_count": 13,
   "id": "bfce109c",
   "metadata": {},
   "outputs": [
    {
     "name": "stdout",
     "output_type": "stream",
     "text": [
      "True\n",
      "True\n"
     ]
    }
   ],
   "source": [
    "l_any = [1, 3, 4, 0]\n",
    "print(any(l_any))\n",
    "\n",
    "# True since 5 is true\n",
    "l = [0, False, 5]\n",
    "print(any(l))\n"
   ]
  },
  {
   "cell_type": "markdown",
   "id": "e66678f4",
   "metadata": {},
   "source": [
    "*********** ALL ***********"
   ]
  },
  {
   "cell_type": "code",
   "execution_count": 17,
   "id": "a8d4ece7",
   "metadata": {},
   "outputs": [
    {
     "name": "stdout",
     "output_type": "stream",
     "text": [
      "False\n"
     ]
    }
   ],
   "source": [
    "# check if all elements are true\n",
    "l_all = [True, False, True]\n",
    "print(all(l_all))\n"
   ]
  },
  {
   "cell_type": "markdown",
   "id": "16ae471b",
   "metadata": {},
   "source": [
    "*********** ASCII ***********"
   ]
  },
  {
   "cell_type": "code",
   "execution_count": 19,
   "id": "644126f6",
   "metadata": {
    "scrolled": true
   },
   "outputs": [
    {
     "name": "stdout",
     "output_type": "stream",
     "text": [
      "('\\xf6', '\\u221a', '\\xb6', '\\xd0', '\\xdf')\n"
     ]
    }
   ],
   "source": [
    "#code ascii\n",
    "tu_ascii = ('ö', '√', '¶','Ð','ß' )\n",
    "print(ascii(tu_ascii))"
   ]
  },
  {
   "cell_type": "markdown",
   "id": "d8abf3ab",
   "metadata": {},
   "source": [
    "*********** BIN ***********"
   ]
  },
  {
   "cell_type": "code",
   "execution_count": 20,
   "id": "6a60b73e",
   "metadata": {
    "scrolled": true
   },
   "outputs": [
    {
     "name": "stdout",
     "output_type": "stream",
     "text": [
      "The binary equivalent of 5 is: 0b101\n"
     ]
    }
   ],
   "source": [
    "# convert 5 to its binary equivalent\n",
    "n_bin = 5 \n",
    "print('The binary equivalent of 5 is:', bin(n_bin))"
   ]
  },
  {
   "cell_type": "markdown",
   "id": "5d049f6c",
   "metadata": {},
   "source": [
    "*********** CHR ***********"
   ]
  },
  {
   "cell_type": "code",
   "execution_count": 26,
   "id": "fcf62bf5",
   "metadata": {},
   "outputs": [
    {
     "name": "stdout",
     "output_type": "stream",
     "text": [
      "s\n"
     ]
    }
   ],
   "source": [
    "#The chr() method takes in a single parameter\n",
    "print(chr(115))"
   ]
  }
 ],
 "metadata": {
  "kernelspec": {
   "display_name": "Python 3 (ipykernel)",
   "language": "python",
   "name": "python3"
  },
  "language_info": {
   "codemirror_mode": {
    "name": "ipython",
    "version": 3
   },
   "file_extension": ".py",
   "mimetype": "text/x-python",
   "name": "python",
   "nbconvert_exporter": "python",
   "pygments_lexer": "ipython3",
   "version": "3.9.12"
  }
 },
 "nbformat": 4,
 "nbformat_minor": 5
}
